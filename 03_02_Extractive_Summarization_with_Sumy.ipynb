{
  "cells": [
    {
      "cell_type": "markdown",
      "metadata": {
        "id": "UaClfq9a5NQy"
      },
      "source": [
        "Sample text is a snippet from linkedin learning blog article:[3 Ways to Launch a Career in Sustainability and the Green Economy](https://www.linkedin.com/business/learning/blog/career-success-tips/3-ways-to-launch-a-career-in-sustainability-and-the-green-economy)\n",
        "\n",
        "Sumy python [library](https://pypi.org/project/sumy/) for summarization tasks"
      ]
    },
    {
      "cell_type": "code",
      "execution_count": null,
      "metadata": {
        "id": "1klUqVVY6bao"
      },
      "outputs": [],
      "source": [
        "%%capture\n",
        "!pip install sumy "
      ]
    },
    {
      "cell_type": "code",
      "execution_count": null,
      "metadata": {
        "id": "ho8rMWSz8xNu"
      },
      "outputs": [],
      "source": [
        "import sumy\n",
        "from sumy.summarizers.lex_rank import LexRankSummarizer\n",
        "from sumy.summarizers.lsa import LsaSummarizer\n",
        "from sumy.nlp.tokenizers import Tokenizer\n",
        "from sumy.parsers.plaintext import PlaintextParser\n",
        "from sumy.parsers.html import HtmlParser\n",
        "import nltk\n",
        "nltk.dowload('punkt')"
      ]
    },
    {
      "cell_type": "code",
      "execution_count": null,
      "metadata": {
        "id": "h8yXfeEi8g6k"
      },
      "outputs": [],
      "source": [
        "sample_text = \"\"\"There is a massive shift underway in the global economy. Fueled by a global pandemic, we are seeing economic, cultural and social trends colliding.\n",
        "\n",
        "This has led to a rapid transformation in how we work, where we work and even why we work. The only constant is change. And change that previously took decades, has happened in just two years. At Linkedin, we call this “The Great Reshuffle”.\n",
        "\n",
        "Running in parallel with “The Great Reshuffle” is the world’s urgent need to save itself. Sir David Attenborough tells us “the future of humanity and indeed, all life on earth, now depends on us”.\n",
        "\n",
        "Our hope is that we can collectively turn the climate crisis into an opportunity for change. We can all help save the planet by creating and pursuing greener careers for the world’s workforce. This green transition can see existing jobs apply more green skills and new green jobs emerge in tandem.\n",
        "\n",
        "Such jobs include Sustainability Manager, Wind Turbine Technician, Solar Consultant, Ecologist, Environmental Health & Safety Specialist: roles that barely existed just a decade ago yet today are the five fastest-growing green jobs globally.\n",
        "\n",
        "So what does this mean for you? How can you get yourself ready for the green economy that lies ahead?\n",
        "\n",
        "In my LinkedIn Learning course, Closing the Green Skills Gap to Power a Greener Economy, I’ll help you better understand the green transition and the opportunities it presents. You’ll learn more about green skills and understand the rise of green jobs. I’ll look at what different countries and sectors are doing to lead green change. I’ll also give practical advice about what you can do to embrace and take advantage of this rapid economic shift. Watch this course for free until May 19, 2022. \n",
        "\n",
        "Remember - change starts with you! So whether you’re taking the first steps in your career or looking for a new challenge in your existing one, here are three things you can do to turbocharge your career in the green economy.\n",
        "\n",
        "Upskill for green skills and green careers\n",
        "Improving your green skills is important to pursue emerging career opportunities. Globally, members with green skills have been more resilient to economic downturns than the rest of the workforce. So improving or adding to your green skills is a great place to start. You could consider self-directed learning, offline or online. You could also enroll in a green-related higher education course to help you upskill.\n",
        "\n",
        "Meanwhile, in the workplace, you could brush up on green skills as part of your organization's learning curriculum. Why not ask your employer or organization what green skills training may be available and even how you could volunteer to help make it happen?\n",
        "\n",
        "Nurture your network of green skilled workers\n",
        "Your network is something you can’t put a price on. That’s because you’ve built it by nurturing relationships and showcasing your capabilities. But you need to keep it up!\n",
        "\n",
        "Indeed our data shows that green skilled workers tend to have stronger networks, with two and sometimes three times more connections on average. Your network is the way to build new relationships, ignite conversations and find new opportunities.\n",
        "\n",
        "So start seeking out ‘green’ related content that interests you and consider engaging with it, for example, by commenting on it or sharing it. \n",
        "\n",
        "Why not join a LinkedIn Group dedicated to a green topic that you’re passionate about? And if you’re feeling more adventurous, you can even set up your own LinkedIn group, especially if you can’t find a green topic specific to your job.\n",
        "\n",
        "That way, you’ll ignite new conversations which could present new green opportunities for not only you but also your network.\"\"\""
      ]
    },
    {
      "cell_type": "code",
      "execution_count": null,
      "metadata": {
        "colab": {
          "base_uri": "https://localhost:8080/"
        },
        "id": "LPXnATdK8mbk",
        "outputId": "c127f4f3-2594-4d65-9fa9-ab6408023405"
      },
      "outputs": [
        {
          "data": {
            "text/plain": [
              "606"
            ]
          },
          "execution_count": 8,
          "metadata": {},
          "output_type": "execute_result"
        }
      ],
      "source": [
        "len(sample_text.split())"
      ]
    },
    {
      "cell_type": "code",
      "execution_count": null,
      "metadata": {
        "id": "iqOf5Mos8o8K"
      },
      "outputs": [],
      "source": [
        "string_parser = PlaintextParser.from_string(sample_text,Tokenizer('english'))"
      ]
    },
    {
      "cell_type": "code",
      "execution_count": null,
      "metadata": {
        "id": "CI8FaB0H83tG"
      },
      "outputs": [],
      "source": [
        "Lex = LexRankSummarizer()\n",
        "string_lex_summary = Lex(document=string_parser.document,sentences_count=20)"
      ]
    },
    {
      "cell_type": "code",
      "execution_count": null,
      "metadata": {
        "colab": {
          "base_uri": "https://localhost:8080/"
        },
        "id": "kcorNGhy9Erj",
        "outputId": "bc789728-299c-4419-b96c-4e9a4ac86712"
      },
      "outputs": [
        {
          "data": {
            "text/plain": [
              "(<Sentence: There is a massive shift underway in the global economy.>,\n",
              " <Sentence: The only constant is change.>,\n",
              " <Sentence: And change that previously took decades, has happened in just two years.>,\n",
              " <Sentence: At Linkedin, we call this “The Great Reshuffle”.>,\n",
              " <Sentence: Sir David Attenborough tells us “the future of humanity and indeed, all life on earth, now depends on us”.>,\n",
              " <Sentence: We can all help save the planet by creating and pursuing greener careers for the world’s workforce.>,\n",
              " <Sentence: This green transition can see existing jobs apply more green skills and new green jobs emerge in tandem.>,\n",
              " <Sentence: So what does this mean for you?>,\n",
              " <Sentence: How can you get yourself ready for the green economy that lies ahead?>,\n",
              " <Sentence: In my LinkedIn Learning course, Closing the Green Skills Gap to Power a Greener Economy, I’ll help you better understand the green transition and the opportunities it presents.>,\n",
              " <Sentence: You’ll learn more about green skills and understand the rise of green jobs.>,\n",
              " <Sentence: So whether you’re taking the first steps in your career or looking for a new challenge in your existing one, here are three things you can do to turbocharge your career in the green economy.>,\n",
              " <Sentence: Upskill for green skills and green careers Improving your green skills is important to pursue emerging career opportunities.>,\n",
              " <Sentence: So improving or adding to your green skills is a great place to start.>,\n",
              " <Sentence: Meanwhile, in the workplace, you could brush up on green skills as part of your organization's learning curriculum.>,\n",
              " <Sentence: Why not ask your employer or organization what green skills training may be available and even how you could volunteer to help make it happen?>,\n",
              " <Sentence: Nurture your network of green skilled workers Your network is something you can’t put a price on.>,\n",
              " <Sentence: Your network is the way to build new relationships, ignite conversations and find new opportunities.>,\n",
              " <Sentence: So start seeking out ‘green’ related content that interests you and consider engaging with it, for example, by commenting on it or sharing it.>,\n",
              " <Sentence: That way, you’ll ignite new conversations which could present new green opportunities for not only you but also your network.>)"
            ]
          },
          "execution_count": 23,
          "metadata": {},
          "output_type": "execute_result"
        }
      ],
      "source": [
        "Lex_summary"
      ]
    },
    {
      "cell_type": "code",
      "execution_count": null,
      "metadata": {
        "id": "V3nJKhJFJZp2"
      },
      "outputs": [],
      "source": [
        "Lsa = LsaSummarizer()\n",
        "string_lsa_summary = Lsa(document=string_parser.document,sentences_count=20)"
      ]
    },
    {
      "cell_type": "code",
      "execution_count": null,
      "metadata": {
        "colab": {
          "base_uri": "https://localhost:8080/"
        },
        "id": "Xn8cZEegJs4B",
        "outputId": "f4780065-678d-4af3-ad23-62e30719df96"
      },
      "outputs": [
        {
          "data": {
            "text/plain": [
              "(<Sentence: There is a massive shift underway in the global economy.>,\n",
              " <Sentence: Fueled by a global pandemic, we are seeing economic, cultural and social trends colliding.>,\n",
              " <Sentence: And change that previously took decades, has happened in just two years.>,\n",
              " <Sentence: At Linkedin, we call this “The Great Reshuffle”.>,\n",
              " <Sentence: Sir David Attenborough tells us “the future of humanity and indeed, all life on earth, now depends on us”.>,\n",
              " <Sentence: Our hope is that we can collectively turn the climate crisis into an opportunity for change.>,\n",
              " <Sentence: We can all help save the planet by creating and pursuing greener careers for the world’s workforce.>,\n",
              " <Sentence: Such jobs include Sustainability Manager, Wind Turbine Technician, Solar Consultant, Ecologist, Environmental Health & Safety Specialist: roles that barely existed just a decade ago yet today are the five fastest-growing green jobs globally.>,\n",
              " <Sentence: How can you get yourself ready for the green economy that lies ahead?>,\n",
              " <Sentence: I’ll look at what different countries and sectors are doing to lead green change.>,\n",
              " <Sentence: I’ll also give practical advice about what you can do to embrace and take advantage of this rapid economic shift.>,\n",
              " <Sentence: So whether you’re taking the first steps in your career or looking for a new challenge in your existing one, here are three things you can do to turbocharge your career in the green economy.>,\n",
              " <Sentence: You could consider self-directed learning, offline or online.>,\n",
              " <Sentence: Meanwhile, in the workplace, you could brush up on green skills as part of your organization's learning curriculum.>,\n",
              " <Sentence: Why not ask your employer or organization what green skills training may be available and even how you could volunteer to help make it happen?>,\n",
              " <Sentence: Nurture your network of green skilled workers Your network is something you can’t put a price on.>,\n",
              " <Sentence: That’s because you’ve built it by nurturing relationships and showcasing your capabilities.>,\n",
              " <Sentence: Indeed our data shows that green skilled workers tend to have stronger networks, with two and sometimes three times more connections on average.>,\n",
              " <Sentence: And if you’re feeling more adventurous, you can even set up your own LinkedIn group, especially if you can’t find a green topic specific to your job.>,\n",
              " <Sentence: That way, you’ll ignite new conversations which could present new green opportunities for not only you but also your network.>)"
            ]
          },
          "execution_count": 33,
          "metadata": {},
          "output_type": "execute_result"
        }
      ],
      "source": [
        "string_lsa_summary"
      ]
    },
    {
      "cell_type": "code",
      "execution_count": null,
      "metadata": {
        "id": "rQpaJQx5_13A"
      },
      "outputs": [],
      "source": [
        "url = \"https://en.wikipedia.org/wiki/LinkedIn_Learning\"\n",
        "html_parser = HtmlParser.from_url(url, Tokenizer('english'))\n",
        "html_lex_summary =  Lex(document=html_parser.document,sentences_count=20)"
      ]
    },
    {
      "cell_type": "code",
      "execution_count": null,
      "metadata": {
        "colab": {
          "base_uri": "https://localhost:8080/"
        },
        "id": "JbCn7XIeAlRq",
        "outputId": "4f433cb4-4b21-495a-c83b-3ddadd24f206"
      },
      "outputs": [
        {
          "data": {
            "text/plain": [
              "(<Sentence: Services Online educationOnline publishing Owner MicrosoftParentLinkedIn Website www.linkedin.com/learning/www.lynda.com Footnotes / references [1] LinkedIn Learning is an American massive open online course provider.>,\n",
              " <Sentence: It is a subsidiary of LinkedIn .>,\n",
              " <Sentence: All the courses on LinkedIn fall into 3 categories: Business, Creative, and Technology.>,\n",
              " <Sentence: It was founded in 1995 by Lynda Weinman as Lynda.com before being acquired by LinkedIn in 2015.>,\n",
              " <Sentence: [3] Microsoft acquired LinkedIn in December 2016.>,\n",
              " <Sentence: LinkedIn Learning was founded as Lynda.com in 1995 in Ojai , California , as online support for the books and classes of Lynda Weinman , a special effects animator and multimedia professor who founded a digital arts school with her husband, artist Bruce Heavin.>,\n",
              " <Sentence: In 2002, the company began offering courses online.>,\n",
              " <Sentence: [6] By 2004, there were 100 courses, and in 2008, the company began producing and publishing documentaries on creative leaders, artists, and entrepreneurs.>,\n",
              " <Sentence: On June 13, 2016, Microsoft announced that it would acquire Lynda.com's parent company LinkedIn for $26.2 billion.>,\n",
              " <Sentence: In October 2017, Lynda.com was merged and renamed LinkedIn Learning .>,\n",
              " <Sentence: [15] In 2019, the site announced that users accessing LinkedIn Learning through their public library would be required to create a LinkedIn profile in order to use the service; the decision faced criticism from librarians and the American Library Association .>,\n",
              " <Sentence: On June 2, 2021, the lynda.com site was shutdown and is now permanently redirected to LinkedIn Learning.>,\n",
              " <Sentence: In February 2013, Lynda.com acquired video2brain, an Austrian -based provider of online classes in web design and programming, available in German, French, Spanish, and English.>,\n",
              " <Sentence: ^ \"LinkedIn CEO: Here's Why I Sold the Company to Microsoft\" .>,\n",
              " <Sentence: \"Knowledge When You Need It: Lynda.com and the Rise of Online Education\" .>,\n",
              " <Sentence: \"LinkedIn's Blockbuster Deal With Lynda.com: What It Means To The Online Learning Industry\" .>,\n",
              " <Sentence: \"Microsoft to Acquire LinkedIn for $26.2 Billion\" .>,\n",
              " <Sentence: LinkedIn.>,\n",
              " <Sentence: ^ \"Upgrading from Lynda.com to LinkedIn Learning\" .>,\n",
              " <Sentence: \"Microsoft is moving Lynda.com users to LinkedIn Learning and not everyone's happy about it\" .>)"
            ]
          },
          "execution_count": 21,
          "metadata": {},
          "output_type": "execute_result"
        }
      ],
      "source": [
        "html_lex_summary"
      ]
    },
    {
      "cell_type": "code",
      "execution_count": null,
      "metadata": {
        "id": "3eJmQwNvDMuL"
      },
      "outputs": [],
      "source": [
        "html_lsa_summary =  Lsa(document=html_parser.document,sentences_count=20)"
      ]
    },
    {
      "cell_type": "code",
      "execution_count": null,
      "metadata": {
        "colab": {
          "base_uri": "https://localhost:8080/"
        },
        "id": "3dB-Oi2UKDZH",
        "outputId": "bc495bc4-d520-404d-c5a5-c397598c5ec3"
      },
      "outputs": [
        {
          "data": {
            "text/plain": [
              "(<Sentence: LinkedIn LearningFormerlyLynda.com (1995-2017)Type Subsidiary Industry E-learning Founded1995 (1995)Founders Lynda Weinman Bruce HeavinHeadquarters Carpinteria>,\n",
              " <Sentence: It provides video courses taught by industry experts in software, creative, and business skills.>,\n",
              " <Sentence: All the courses on LinkedIn fall into 3 categories: Business, Creative, and Technology.>,\n",
              " <Sentence: LinkedIn Learning was founded as Lynda.com in 1995 in Ojai , California , as online support for the books and classes of Lynda Weinman , a special effects animator and multimedia professor who founded a digital arts school with her husband, artist Bruce Heavin.>,\n",
              " <Sentence: In 2016, Lynda.com began to broadcast courses on their Apple TV application.>,\n",
              " <Sentence: On June 13, 2016, Microsoft announced that it would acquire Lynda.com's parent company LinkedIn for $26.2 billion.>,\n",
              " <Sentence: In October 2017, Lynda.com was merged and renamed LinkedIn Learning .>,\n",
              " <Sentence: On June 2, 2021, the lynda.com site was shutdown and is now permanently redirected to LinkedIn Learning.>,\n",
              " <Sentence: On April 7, 2014, Lynda.com purchased Canadian startup Compilr, provider of an online editor and sandbox.>,\n",
              " <Sentence: ^ \"LinkedIn CEO: Here's Why I Sold the Company to Microsoft\" .>,\n",
              " <Sentence: \"Knowledge When You Need It: Lynda.com and the Rise of Online Education\" .>,\n",
              " <Sentence: \"A Paywall That Pays Off: How Lynda.com Broke All the Rules and Won\" .>,\n",
              " <Sentence: \"LinkedIn's Blockbuster Deal With Lynda.com: What It Means To The Online Learning Industry\" .>,\n",
              " <Sentence: \"After 17 Years, Education Platform Lynda.com Raises Its First Round of Funding, $103M From Accel & Spectrum\" .>,\n",
              " <Sentence: Microsoft Corp. and LinkedIn Corporation on Monday announced they have entered into a definitive agreement under which Microsoft will acquire LinkedIn for $16 per share in an all-cash transaction valued at $26.2 billion, inclusive of LinkedIn’s net cash.>,\n",
              " <Sentence: \"Microsoft is moving Lynda.com users to LinkedIn Learning and not everyone's happy about it\" .>,\n",
              " <Sentence: \"American Library Association blasts LinkedIn for intrusive ToS changes\" .>,\n",
              " <Sentence: \"Why librarians are up in arms against LinkedIn\" .>,\n",
              " <Sentence: \"Flush with cash, lynda.com buys European online learning site video2brain\" .>,\n",
              " <Sentence: \"E-Learning Platform Buys Compilr To Add In-Browser Coding Tools, Price Around $20M\" .>)"
            ]
          },
          "execution_count": 35,
          "metadata": {},
          "output_type": "execute_result"
        }
      ],
      "source": [
        "html_lsa_summary"
      ]
    },
    {
      "cell_type": "code",
      "execution_count": null,
      "metadata": {
        "id": "9rQKWoaqKGMi"
      },
      "outputs": [],
      "source": []
    }
  ],
  "metadata": {
    "colab": {
      "collapsed_sections": [],
      "name": "03_02_Extractive Summarization with Sumy.ipynb",
      "provenance": []
    },
    "kernelspec": {
      "display_name": "Python 3",
      "name": "python3"
    },
    "language_info": {
      "name": "python"
    }
  },
  "nbformat": 4,
  "nbformat_minor": 0
}
